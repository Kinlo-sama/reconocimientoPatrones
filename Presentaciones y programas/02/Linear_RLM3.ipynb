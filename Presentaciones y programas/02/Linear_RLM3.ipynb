{
 "cells": [
  {
   "cell_type": "code",
   "execution_count": 1,
   "id": "6cacb68b",
   "metadata": {},
   "outputs": [],
   "source": [
    "import numpy as np\n",
    "import pandas as pd\n",
    "from sklearn.preprocessing import  OneHotEncoder , MinMaxScaler\n",
    "from sklearn.preprocessing import LabelBinarizer\n",
    "from sklearn.model_selection import train_test_split\n",
    "from sklearn.linear_model import LinearRegression"
   ]
  },
  {
   "cell_type": "code",
   "execution_count": 2,
   "id": "0aefe50e",
   "metadata": {},
   "outputs": [],
   "source": [
    "# load dataset\n",
    "url = 'https://raw.githubusercontent.com/jbrownlee/Datasets/master/abalone.csv'\n",
    "dataframe = pd.read_csv(url, header=None)\n",
    "dataframe.columns = ['Type','Length','Diameter','Height','Whole W',\n",
    "                     'Shucked W','Viscera W','Shell W', 'Ring']\n",
    "# split into inputs and outputs\n",
    "\n",
    "X, y = dataframe.drop('Ring', axis=1), dataframe['Ring']\n",
    "\n",
    "# determine categorical and numerical features\n",
    "numerical = X.select_dtypes(include=['int64', 'float64'])\n",
    "categorical = X.select_dtypes(include=['object', 'bool'])\n",
    "\n",
    "#enc = OneHotEncoder(categories='auto')\n",
    "# enc = OneHotEncoder()\n",
    "# onehotlabels = enc.fit_transform(categorical).toarray()\n",
    "# onehotlabels = onehotlabels[:,1:]  # Evitando co-liealidad"
   ]
  },
  {
   "cell_type": "code",
   "execution_count": 6,
   "id": "bcdc515c",
   "metadata": {},
   "outputs": [
    {
     "data": {
      "text/html": [
       "<div>\n",
       "<style scoped>\n",
       "    .dataframe tbody tr th:only-of-type {\n",
       "        vertical-align: middle;\n",
       "    }\n",
       "\n",
       "    .dataframe tbody tr th {\n",
       "        vertical-align: top;\n",
       "    }\n",
       "\n",
       "    .dataframe thead th {\n",
       "        text-align: right;\n",
       "    }\n",
       "</style>\n",
       "<table border=\"1\" class=\"dataframe\">\n",
       "  <thead>\n",
       "    <tr style=\"text-align: right;\">\n",
       "      <th></th>\n",
       "      <th>Type</th>\n",
       "      <th>Length</th>\n",
       "      <th>Diameter</th>\n",
       "      <th>Height</th>\n",
       "      <th>Whole W</th>\n",
       "      <th>Shucked W</th>\n",
       "      <th>Viscera W</th>\n",
       "      <th>Shell W</th>\n",
       "      <th>Ring</th>\n",
       "    </tr>\n",
       "  </thead>\n",
       "  <tbody>\n",
       "    <tr>\n",
       "      <th>0</th>\n",
       "      <td>M</td>\n",
       "      <td>0.455</td>\n",
       "      <td>0.365</td>\n",
       "      <td>0.095</td>\n",
       "      <td>0.5140</td>\n",
       "      <td>0.2245</td>\n",
       "      <td>0.1010</td>\n",
       "      <td>0.150</td>\n",
       "      <td>15</td>\n",
       "    </tr>\n",
       "    <tr>\n",
       "      <th>1</th>\n",
       "      <td>M</td>\n",
       "      <td>0.350</td>\n",
       "      <td>0.265</td>\n",
       "      <td>0.090</td>\n",
       "      <td>0.2255</td>\n",
       "      <td>0.0995</td>\n",
       "      <td>0.0485</td>\n",
       "      <td>0.070</td>\n",
       "      <td>7</td>\n",
       "    </tr>\n",
       "    <tr>\n",
       "      <th>2</th>\n",
       "      <td>F</td>\n",
       "      <td>0.530</td>\n",
       "      <td>0.420</td>\n",
       "      <td>0.135</td>\n",
       "      <td>0.6770</td>\n",
       "      <td>0.2565</td>\n",
       "      <td>0.1415</td>\n",
       "      <td>0.210</td>\n",
       "      <td>9</td>\n",
       "    </tr>\n",
       "    <tr>\n",
       "      <th>3</th>\n",
       "      <td>M</td>\n",
       "      <td>0.440</td>\n",
       "      <td>0.365</td>\n",
       "      <td>0.125</td>\n",
       "      <td>0.5160</td>\n",
       "      <td>0.2155</td>\n",
       "      <td>0.1140</td>\n",
       "      <td>0.155</td>\n",
       "      <td>10</td>\n",
       "    </tr>\n",
       "    <tr>\n",
       "      <th>4</th>\n",
       "      <td>I</td>\n",
       "      <td>0.330</td>\n",
       "      <td>0.255</td>\n",
       "      <td>0.080</td>\n",
       "      <td>0.2050</td>\n",
       "      <td>0.0895</td>\n",
       "      <td>0.0395</td>\n",
       "      <td>0.055</td>\n",
       "      <td>7</td>\n",
       "    </tr>\n",
       "  </tbody>\n",
       "</table>\n",
       "</div>"
      ],
      "text/plain": [
       "  Type  Length  Diameter  Height  Whole W  Shucked W  Viscera W  Shell W  Ring\n",
       "0    M   0.455     0.365   0.095   0.5140     0.2245     0.1010    0.150    15\n",
       "1    M   0.350     0.265   0.090   0.2255     0.0995     0.0485    0.070     7\n",
       "2    F   0.530     0.420   0.135   0.6770     0.2565     0.1415    0.210     9\n",
       "3    M   0.440     0.365   0.125   0.5160     0.2155     0.1140    0.155    10\n",
       "4    I   0.330     0.255   0.080   0.2050     0.0895     0.0395    0.055     7"
      ]
     },
     "execution_count": 6,
     "metadata": {},
     "output_type": "execute_result"
    }
   ],
   "source": [
    "dataframe.head()"
   ]
  },
  {
   "cell_type": "code",
   "execution_count": 3,
   "id": "fa67d458",
   "metadata": {},
   "outputs": [],
   "source": [
    "lb =LabelBinarizer()\n",
    "lb_data =lb.fit_transform(categorical)\n",
    "onehotlabels=lb_data[:,:2]  # lb_data[:,1:]\n",
    "\n",
    "X = numerical.iloc[:,:].values\n",
    "##### Concatenar onehotlabels con X \n",
    "X_completo = np.concatenate((onehotlabels,X),axis=1)\n",
    "y = y.iloc[:].values\n",
    "\n",
    "sc_X = MinMaxScaler()\n",
    "X = sc_X.fit_transform(X_completo)\n",
    "\n",
    "X_train, X_test, y_train, y_test =train_test_split(X,y,test_size=0.1,random_state=0)"
   ]
  },
  {
   "cell_type": "code",
   "execution_count": 4,
   "id": "fcf271cf",
   "metadata": {},
   "outputs": [
    {
     "name": "stdout",
     "output_type": "stream",
     "text": [
      "training score =   0.537\n",
      "test score =   0.547\n"
     ]
    }
   ],
   "source": [
    "''' Aplicar el modelo de regresión lineal multiple '''\n",
    "modelo = LinearRegression()\n",
    "modelo.fit(X_train, y_train)\n",
    "y_pred = modelo.predict(X_test)\n",
    "y_pred = np.round(y_pred)\n",
    "score_train = modelo.score(X_train,y_train)\n",
    "score_test = modelo.score(X_test,y_test)\n",
    "print('training score = {:7.3f}'.format(score_train))\n",
    "print('test score = {:7.3f}'.format(score_test))"
   ]
  }
 ],
 "metadata": {
  "kernelspec": {
   "display_name": "claseReconocimiento (3.10.12)",
   "language": "python",
   "name": "python3"
  },
  "language_info": {
   "codemirror_mode": {
    "name": "ipython",
    "version": 3
   },
   "file_extension": ".py",
   "mimetype": "text/x-python",
   "name": "python",
   "nbconvert_exporter": "python",
   "pygments_lexer": "ipython3",
   "version": "3.10.12"
  }
 },
 "nbformat": 4,
 "nbformat_minor": 5
}
