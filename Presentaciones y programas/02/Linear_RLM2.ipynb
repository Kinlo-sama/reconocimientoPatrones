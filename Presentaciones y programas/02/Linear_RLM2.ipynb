{
 "cells": [
  {
   "cell_type": "code",
   "execution_count": 100,
   "id": "296dc329",
   "metadata": {},
   "outputs": [],
   "source": [
    "import numpy as np\n",
    "import pandas as pd\n",
    "import matplotlib.pyplot as plt\n",
    "import time\n",
    "from sklearn.linear_model import LinearRegression"
   ]
  },
  {
   "cell_type": "code",
   "execution_count": 101,
   "id": "4d5f93ba",
   "metadata": {},
   "outputs": [],
   "source": [
    "#### Leer datos ###\n",
    "dataset = pd.read_csv('BostonHousing.csv')\n",
    "X = dataset.iloc[:, :-1]\n",
    "Y = dataset.iloc[:, 13].values\n",
    "\n",
    "\n",
    "### Estandarizar datos ###\n",
    "from sklearn.preprocessing import StandardScaler\n",
    "sc_X = StandardScaler()\n",
    "X_std= sc_X.fit_transform(X)\n",
    "#X_std_test =sc_X.fit(X_test)\n",
    "\n",
    "### Normalizar datos   [0, 1] ###\n",
    "from sklearn.preprocessing  import MinMaxScaler\n",
    "nm_X = MinMaxScaler()\n",
    "X_nm = nm_X.fit_transform(X)"
   ]
  },
  {
   "cell_type": "code",
   "execution_count": 102,
   "id": "cac879dc",
   "metadata": {},
   "outputs": [
    {
     "name": "stdout",
     "output_type": "stream",
     "text": [
      "score = 0.7406426641094095\n",
      "0.010059833526611328\n"
     ]
    }
   ],
   "source": [
    "##### Modelo de regressiion lineal múltiple\n",
    "since = time.time()\n",
    "modelo = LinearRegression()\n",
    "modelo.fit(X,Y)\n",
    "\n",
    "coefficient = modelo.coef_\n",
    "df_coefficient = pd.DataFrame(coefficient, columns=['Coefs'], \n",
    "                              index = [\"crime rate\", \"zone\", \"Industry\",\n",
    "                              \"charles river\",\"nitric oxides\", \"rooms\", \"age\", \n",
    "                              \"distance\",\"radial highwatys\",\"tax rate\", \"ptratio\",\n",
    "                              \"blacks\",\"lower status\"])\n",
    "print(\"score = {}\". format(modelo.score(X,Y)))\n",
    "print(time.time() - since)"
   ]
  },
  {
   "cell_type": "code",
   "execution_count": 103,
   "id": "9912b504",
   "metadata": {},
   "outputs": [
    {
     "name": "stdout",
     "output_type": "stream",
     "text": [
      "Time 0.0025343894958496094\n",
      "score_estandarizado = 0.7406426641094094\n",
      "Time 0.004639863967895508\n",
      "score_normalizado = 0.7406426641094095\n"
     ]
    }
   ],
   "source": [
    "###### Modelo de regression lineal múltiple con datos estandarizados\n",
    "since = time.time()\n",
    "modelo.fit(X_std,Y)\n",
    "\n",
    "coefficient_s = modelo.coef_\n",
    "df_coefficient_s = pd.DataFrame(coefficient_s, columns=['Coefs'], \n",
    "                              index = [\"crime rate\", \"zone\", \"Industry\",\n",
    "\n",
    "                              \"charles river\",\"nitric oxides\", \"rooms\", \"age\", \n",
    "                              \"distance\",\"radial highwatys\",\"tax rate\", \"ptratio\",\n",
    "                              \"blacks\",\"lower status\"])\n",
    "print(f'Time {time.time() - since}')\n",
    "print(\"score_estandarizado = {}\". format(modelo.score(X_std,Y)))\n",
    "\n",
    "since = time.time()\n",
    "modelo.fit(X_nm,Y)\n",
    "\n",
    "coefficient_n = modelo.coef_\n",
    "df_coefficient_n = pd.DataFrame(coefficient_n, columns=['Coefs'], \n",
    "                              index = [\"crime rate\", \"zone\", \"Industry\",\n",
    "\n",
    "                              \"charles river\",\"nitric oxides\", \"rooms\", \"age\", \n",
    "                              \"distance\",\"radial highwatys\",\"tax rate\", \"ptratio\",\n",
    "                              \"blacks\",\"lower status\"])\n",
    "print(f'Time {time.time() - since}')\n",
    "print(\"score_normalizado = {}\". format(modelo.score(X_nm,Y)))\n",
    "\n",
    "df_coefficient_s.to_csv('coefficients_bostos.csv')"
   ]
  }
 ],
 "metadata": {
  "kernelspec": {
   "display_name": "claseReconocimiento (3.10.12)",
   "language": "python",
   "name": "python3"
  },
  "language_info": {
   "codemirror_mode": {
    "name": "ipython",
    "version": 3
   },
   "file_extension": ".py",
   "mimetype": "text/x-python",
   "name": "python",
   "nbconvert_exporter": "python",
   "pygments_lexer": "ipython3",
   "version": "3.10.12"
  }
 },
 "nbformat": 4,
 "nbformat_minor": 5
}
