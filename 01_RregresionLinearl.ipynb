{
 "cells": [
  {
   "cell_type": "markdown",
   "id": "84509bcf",
   "metadata": {},
   "source": [
    "## *sep 2 - Regresión lineal simple*"
   ]
  },
  {
   "cell_type": "code",
   "execution_count": 16,
   "id": "55e4632d",
   "metadata": {},
   "outputs": [
    {
     "name": "stdout",
     "output_type": "stream",
     "text": [
      "9.333\n",
      "2.333\n",
      "0.000\n",
      "2.333\n",
      "9.333\n"
     ]
    }
   ],
   "source": [
    "import numpy as np\n",
    "\n",
    "x = np.array([1,2,3])\n",
    "y = np.array([1,2,3])\n",
    "theta1 = np.array([-1, 0, 1,2,3])\n",
    "f_c = lambda x,y, t : (1 / (2 * (x.shape[0]))) * np.sum((x * t - y) ** 2) \n",
    "for theta in theta1:\n",
    "    print(f'{f_c(x, y, theta):.3f}')"
   ]
  },
  {
   "cell_type": "markdown",
   "id": "270ba119",
   "metadata": {},
   "source": [
    "$$\n",
    "\\frac{\\partial}{\\partial \\theta0} J ( \\theta_0, \\theta_1) = \\frac{1}{m} (\\theta_0 + \\theta_1 x^{(i)} - y^{(i)}) (1)\n",
    "\\\\[5 pts]\n",
    "\\frac{\\partial}{\\partial \\theta1} J ( \\theta_0, \\theta_1) = \\frac{1}{m} (\\theta_0 + \\theta_1 x^{(i)} - y^{(i)}) (x^{(i)})\n",
    "$$"
   ]
  },
  {
   "cell_type": "code",
   "execution_count": null,
   "id": "4ab09890",
   "metadata": {},
   "outputs": [
    {
     "name": "stdout",
     "output_type": "stream",
     "text": [
      "Para theta1 =  -1\n",
      "Gradiente para theta0 = -4.000\n",
      "Gradiente para theta1 =-9.333\n",
      "Para theta1 =  0\n",
      "Gradiente para theta0 = -2.000\n",
      "Gradiente para theta1 =-4.667\n",
      "Para theta1 =  1\n",
      "Gradiente para theta0 = 0.000\n",
      "Gradiente para theta1 =0.000\n",
      "Para theta1 =  2\n",
      "Gradiente para theta0 = 2.000\n",
      "Gradiente para theta1 =4.667\n",
      "Para theta1 =  3\n",
      "Gradiente para theta0 = 4.000\n",
      "Gradiente para theta1 =9.333\n"
     ]
    }
   ],
   "source": [
    "import numpy as np\n",
    "\n",
    "x = np.array([1,2,3])\n",
    "y = np.array([1,2,3])\n",
    "theta1 = np.array([-1, 0, 1,2,3])\n",
    "gradientetheta0 = lambda x,y, t : (1 / (x.shape[0])) * np.sum((x * t - y) * 1) \n",
    "gradientetheta1 = lambda x,y, t : (1 / (x.shape[0])) * np.sum((x * t - y) * x) \n",
    "\n",
    "for theta in theta1:\n",
    "    print('Para theta1 = ', theta)\n",
    "    print(f'Gradiente para theta0 = {gradientetheta0(x, y, theta):.3f}')\n",
    "    print(f'Gradiente para theta1 = {gradientetheta1(x, y, theta):.3f}')"
   ]
  }
 ],
 "metadata": {
  "kernelspec": {
   "display_name": "claseReconocimiento (3.10.12)",
   "language": "python",
   "name": "python3"
  },
  "language_info": {
   "codemirror_mode": {
    "name": "ipython",
    "version": 3
   },
   "file_extension": ".py",
   "mimetype": "text/x-python",
   "name": "python",
   "nbconvert_exporter": "python",
   "pygments_lexer": "ipython3",
   "version": "3.10.12"
  }
 },
 "nbformat": 4,
 "nbformat_minor": 5
}
