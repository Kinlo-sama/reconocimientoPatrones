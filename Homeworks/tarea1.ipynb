{
 "cells": [
  {
   "cell_type": "code",
   "execution_count": 12,
   "id": "2d2c4411",
   "metadata": {},
   "outputs": [],
   "source": [
    "import numpy as np\n",
    "import pandas as pd\n",
    "from sklearn.preprocessing import  OneHotEncoder , MinMaxScaler\n",
    "from sklearn.preprocessing import LabelBinarizer\n",
    "from sklearn.linear_model import LinearRegression\n",
    "from time import time\n",
    "from sklearn.model_selection import train_test_split"
   ]
  },
  {
   "cell_type": "code",
   "execution_count": 13,
   "id": "08593b20",
   "metadata": {},
   "outputs": [],
   "source": [
    "# importar el data set\n",
    "dataset = pd.read_csv('./../Presentaciones y programas/02/50_Startups.csv')\n",
    "X = dataset.iloc[:, :-1]\n",
    "y = dataset.iloc[:, 4].values\n",
    "\n",
    "# determine categorical and numerical features\n",
    "numerical = X.select_dtypes(include=['int64', 'float64'])\n",
    "categorical = X.select_dtypes(include=['object', 'bool'])\n",
    "\n",
    "enc = OneHotEncoder()\n",
    "mms = MinMaxScaler()\n",
    "onehotlabels = enc.fit_transform(categorical).toarray()\n",
    "\n",
    "# lb = LabelBinarizer()\n",
    "# onehotlabels = lb.fit_transform(categorical)\n",
    "onehotlabels = onehotlabels[:,1:]  # Evitando co-liealidad\n",
    "\n",
    "X = numerical.iloc[:,:].values\n",
    "X_mm = mms.fit_transform(X)\n",
    "##### Concatenar onehotlabels con X \n",
    "X_completo = np.concatenate((onehotlabels,X),axis=1)\n",
    "X_completo_mm = np.concatenate((onehotlabels, X_mm), axis = 1)"
   ]
  },
  {
   "cell_type": "code",
   "execution_count": 14,
   "id": "43793b46",
   "metadata": {},
   "outputs": [
    {
     "name": "stdout",
     "output_type": "stream",
     "text": [
      "Total de muestras: 50\n",
      "Valores categoricos en state: ['New York' 'California' 'Florida']\n",
      "====================== Visualizacion de dataset ======================\n"
     ]
    },
    {
     "data": {
      "text/html": [
       "<div>\n",
       "<style scoped>\n",
       "    .dataframe tbody tr th:only-of-type {\n",
       "        vertical-align: middle;\n",
       "    }\n",
       "\n",
       "    .dataframe tbody tr th {\n",
       "        vertical-align: top;\n",
       "    }\n",
       "\n",
       "    .dataframe thead th {\n",
       "        text-align: right;\n",
       "    }\n",
       "</style>\n",
       "<table border=\"1\" class=\"dataframe\">\n",
       "  <thead>\n",
       "    <tr style=\"text-align: right;\">\n",
       "      <th></th>\n",
       "      <th>R&amp;D Spend</th>\n",
       "      <th>Administration</th>\n",
       "      <th>Marketing Spend</th>\n",
       "      <th>State</th>\n",
       "      <th>Profit</th>\n",
       "    </tr>\n",
       "  </thead>\n",
       "  <tbody>\n",
       "    <tr>\n",
       "      <th>0</th>\n",
       "      <td>165349.20</td>\n",
       "      <td>136897.80</td>\n",
       "      <td>471784.10</td>\n",
       "      <td>New York</td>\n",
       "      <td>192261.83</td>\n",
       "    </tr>\n",
       "    <tr>\n",
       "      <th>1</th>\n",
       "      <td>162597.70</td>\n",
       "      <td>151377.59</td>\n",
       "      <td>443898.53</td>\n",
       "      <td>California</td>\n",
       "      <td>191792.06</td>\n",
       "    </tr>\n",
       "    <tr>\n",
       "      <th>2</th>\n",
       "      <td>153441.51</td>\n",
       "      <td>101145.55</td>\n",
       "      <td>407934.54</td>\n",
       "      <td>Florida</td>\n",
       "      <td>191050.39</td>\n",
       "    </tr>\n",
       "    <tr>\n",
       "      <th>3</th>\n",
       "      <td>144372.41</td>\n",
       "      <td>118671.85</td>\n",
       "      <td>383199.62</td>\n",
       "      <td>New York</td>\n",
       "      <td>182901.99</td>\n",
       "    </tr>\n",
       "    <tr>\n",
       "      <th>4</th>\n",
       "      <td>142107.34</td>\n",
       "      <td>91391.77</td>\n",
       "      <td>366168.42</td>\n",
       "      <td>Florida</td>\n",
       "      <td>166187.94</td>\n",
       "    </tr>\n",
       "  </tbody>\n",
       "</table>\n",
       "</div>"
      ],
      "text/plain": [
       "   R&D Spend  Administration  Marketing Spend       State     Profit\n",
       "0  165349.20       136897.80        471784.10    New York  192261.83\n",
       "1  162597.70       151377.59        443898.53  California  191792.06\n",
       "2  153441.51       101145.55        407934.54     Florida  191050.39\n",
       "3  144372.41       118671.85        383199.62    New York  182901.99\n",
       "4  142107.34        91391.77        366168.42     Florida  166187.94"
      ]
     },
     "execution_count": 14,
     "metadata": {},
     "output_type": "execute_result"
    }
   ],
   "source": [
    "print('Total de muestras:',len(dataset))\n",
    "print('Valores categoricos en state:', dataset['State'].unique())\n",
    "title = \" Visualizacion de dataset \"\n",
    "print(f'{title:=^70}')\n",
    "dataset.head()"
   ]
  },
  {
   "cell_type": "code",
   "execution_count": 15,
   "id": "774baa0b",
   "metadata": {},
   "outputs": [
    {
     "data": {
      "text/plain": [
       "array([[0.0000000e+00, 1.0000000e+00, 1.6534920e+05, 1.3689780e+05,\n",
       "        4.7178410e+05],\n",
       "       [0.0000000e+00, 0.0000000e+00, 1.6259770e+05, 1.5137759e+05,\n",
       "        4.4389853e+05]])"
      ]
     },
     "execution_count": 15,
     "metadata": {},
     "output_type": "execute_result"
    }
   ],
   "source": [
    "X_completo[:2]"
   ]
  },
  {
   "cell_type": "code",
   "execution_count": 16,
   "id": "8eca71d4",
   "metadata": {},
   "outputs": [
    {
     "data": {
      "text/plain": [
       "array([[0.        , 1.        , 1.        , 0.65174393, 1.        ],\n",
       "       [0.        , 0.        , 0.98335946, 0.76197173, 0.94089337]])"
      ]
     },
     "execution_count": 16,
     "metadata": {},
     "output_type": "execute_result"
    }
   ],
   "source": [
    "X_completo_mm[:2]"
   ]
  },
  {
   "cell_type": "code",
   "execution_count": 17,
   "id": "90df2bb7",
   "metadata": {},
   "outputs": [],
   "source": [
    "modelo = LinearRegression()\n",
    "modelomm = LinearRegression()\n",
    "\n",
    "times = []\n",
    "times_std = []\n",
    "\n",
    "for _ in range(1000):\n",
    "    #print(f\"{' Datos no normalizados ':=^60}\")\n",
    "    X_train, X_test, y_train, y_test = train_test_split(X_completo,y,test_size=0.1,random_state=0)\n",
    "    since = time()\n",
    "    modelo.fit(X_train, y_train)\n",
    "    score_train = modelo.score(X_train, y_train)\n",
    "    score_test = modelo.score(X_test, y_test)\n",
    "    timestmd = time() - since\n",
    "    times.append(timestmd)\n",
    "    #print(f\"Time: \", timestmd)\n",
    "    #print('training score = {:7.3f}'.format(score_train))\n",
    "    #print('test score = {:7.3f}'.format(score_test))\n",
    "\n",
    "    #print(f\"{' Datos normalizados ':=^60}\")\n",
    "    X_train, X_test, y_train, y_test = train_test_split(X_completo_mm,y,test_size=0.1,random_state=0)\n",
    "    since = time()\n",
    "    modelo.fit(X_train, y_train)\n",
    "    score_train = modelo.score(X_train, y_train)\n",
    "    score_test = modelo.score(X_test, y_test)\n",
    "    timestmd = time() - since\n",
    "    times_std.append(timestmd)\n",
    "    #print(f\"Time: \", timestmd)\n",
    "    #print('training score = {:7.3f}'.format(score_train))\n",
    "    #print('test score = {:7.3f}'.format(score_test))"
   ]
  },
  {
   "cell_type": "code",
   "execution_count": 18,
   "id": "4418bd68",
   "metadata": {},
   "outputs": [
    {
     "name": "stdout",
     "output_type": "stream",
     "text": [
      "Promedio para datos no estadarizados:\t  0.0043309805393218995\n",
      "Promedio para datos estadarizados:\t  0.004329442739486694\n"
     ]
    }
   ],
   "source": [
    "print(f'Promedio para datos no estadarizados:\\t ', sum(times)/len(times))\n",
    "print(f'Promedio para datos estadarizados:\\t ', sum(times_std)/len(times_std))"
   ]
  }
 ],
 "metadata": {
  "kernelspec": {
   "display_name": "claseReconocimiento (3.10.12)",
   "language": "python",
   "name": "python3"
  },
  "language_info": {
   "codemirror_mode": {
    "name": "ipython",
    "version": 3
   },
   "file_extension": ".py",
   "mimetype": "text/x-python",
   "name": "python",
   "nbconvert_exporter": "python",
   "pygments_lexer": "ipython3",
   "version": "3.10.12"
  }
 },
 "nbformat": 4,
 "nbformat_minor": 5
}
